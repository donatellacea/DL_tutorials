{
 "cells": [
  {
   "cell_type": "markdown",
   "id": "cce4bf01",
   "metadata": {},
   "source": [
    "![logo](https://github.com/donatellacea/DL_tutorials/blob/main/notebooks/figures/1128-191-max.png?raw=true)"
   ]
  },
  {
   "cell_type": "markdown",
   "id": "040a619e",
   "metadata": {},
   "source": [
    "# Classification with Deep Learning \n",
    "---\n",
    "\n",
    "With the term **Machine Learning** (ML) we define a set of algorithms and methods that provide a machine with the ability to learn automatically and improve from experience without being explicitly programmed.\n",
    "When we have labeled data, we can use the label to guide the learning process, and this is called **Supervised learning**. If data are not labeled, it means that we don't have a guide or a supervision, and this is called **Unsupervised learning**.\n",
    "Within Supervised learning we can have two different kind if problems:\n",
    " - **Regression problem**: the task of predicting a contineous quantity,  \n",
    " - **Classification problem**: the task of predicting a label or a class (discrete values).\n",
    "\n",
    "This tutorial will show you how to perform classification with deep Neural Network (NN) on images. We will work with two public datasets, and we will see a binary classification and a multi-class classification problem. \n",
    "\n",
    "In order to start working on the notebook, click on the following button, this will open this page in the Colab environment and you will be able to execute the code on your own.\n",
    "\n",
    "[![Open In Colab](https://colab.research.google.com/assets/colab-badge.svg)](https://colab.research.google.com/github/donatellacea/DL_tutorials/blob/main/notebooks/DL_Classification_tutorial.ipynb)\n"
   ]
  },
  {
   "cell_type": "markdown",
   "id": "b58bec64",
   "metadata": {},
   "source": [
    "## Setup the environment\n",
    "\n",
    "If you already did this step for the Tensorflow Playground tutorial, you can skip the setup section and start with the Import and Install section. Otherwise, complete the next step before starting the tutorial.\n",
    "\n",
    "Now that you are visualizing the notebook in Colab, run the next cell, in order to create a folder in your Google Drive. Alle the files for this tutorial, will be uploaded in this folder. After the first execution you might receive some warning and notification, please follow this instruciotns:\n",
    "1. Warning: This notebook was not authored by Google. Click on Run anyway.\n",
    "2. Permit this notebook to access your Google Drive files? Click on Yes, and select your account.\n",
    "3. Google Drive for desktop wants to access your Google Account. Click on 'Allow'.\n",
    "\n",
    "At this point a folder has been created and you can navigate it trhought the lefthand panel in Colab, you might also have received an email that informs you about the acess on your google Drive. "
   ]
  },
  {
   "cell_type": "code",
   "execution_count": null,
   "id": "283012ba",
   "metadata": {},
   "outputs": [],
   "source": [
    "# Create a folder in your Google Drive\n",
    "from google.colab import drive\n",
    "drive.mount('/content/drive')"
   ]
  },
  {
   "cell_type": "markdown",
   "id": "77ea4ba3",
   "metadata": {},
   "source": [
    "Execute the next cells to clone the repository from GitHub, so the important files and notebooks for this tutorial will be downloaded in your working folder on the Drive that you created in the previous step."
   ]
  },
  {
   "cell_type": "code",
   "execution_count": null,
   "id": "43769c18",
   "metadata": {},
   "outputs": [],
   "source": [
    "%cd drive/MyDrive"
   ]
  },
  {
   "cell_type": "code",
   "execution_count": null,
   "id": "60eb3263",
   "metadata": {},
   "outputs": [],
   "source": [
    "!git clone https://github.com/donatellacea/DL_tutorials"
   ]
  },
  {
   "cell_type": "code",
   "execution_count": null,
   "id": "a26d77c4",
   "metadata": {},
   "outputs": [],
   "source": [
    "%cd DL_tutorials"
   ]
  },
  {
   "cell_type": "markdown",
   "id": "20e5d13d",
   "metadata": {},
   "source": [
    "### Import and intall"
   ]
  },
  {
   "cell_type": "code",
   "execution_count": null,
   "id": "4fb7ef57",
   "metadata": {},
   "outputs": [],
   "source": [
    "!pip install alive_progress"
   ]
  },
  {
   "cell_type": "code",
   "execution_count": null,
   "id": "9a8fcf17",
   "metadata": {},
   "outputs": [],
   "source": [
    "# Run this cell to import the main packages we will use\n",
    "import pandas as pd\n",
    "import numpy as np\n",
    "import os\n",
    "import shutil\n",
    "import glob\n",
    "import sklearn\n",
    "import random\n",
    "random.seed(1)\n",
    "import matplotlib.pyplot as plt \n",
    "import PIL\n",
    "import plotly.graph_objects as go\n",
    "from skimage import io \n",
    "from alive_progress import alive_bar\n",
    "\n",
    "import torch\n",
    "torch.manual_seed(0)\n",
    "import torch.nn as nn\n",
    "import torch.optim as optim\n",
    "import torch.nn.functional as F\n",
    "from torch.utils.data import Dataset, DataLoader\n",
    "import torchvision.transforms as transforms"
   ]
  },
  {
   "cell_type": "markdown",
   "id": "1918d1f3",
   "metadata": {},
   "source": [
    "## Binary Classification\n",
    "---\n",
    "\n",
    "In this problem, we will use the Lung CT scans dataset in order to predict whether the patient has Codiv-19 or not. Since the output can be positive or negative, this is a classic example of **binary classification**. \n",
    "\n",
    "### Dataset \n",
    "The dataset, available on Kaggle (https://www.kaggle.com/datasets/luisblanche/covidct), will be downloaded in your google drive folder that we will create in the first step of the tutorial.\n",
    "\n",
    "It counts in a total of 746 images divided as follows:\n",
    "- 397 No Covid\n",
    "- 349 Covid\n",
    "\n",
    "The images, i.e. CT scans, are obtained through Computed Tomography, a medical imaging technique used in radiology (x-ray) to obtain detailed internal images of the body noninvasively for diagnostic purposes. Only with proper training is it possible to interpret the scans, so without a radiology/medical background, it is tough to understand the presence of Covid-19 from the scan. But we will see that a well-trained NN can help the technicians and doctors diagnose this kind of disease."
   ]
  },
  {
   "cell_type": "markdown",
   "id": "80d421c0",
   "metadata": {},
   "source": [
    "Run the next cell to download the data, you should see a folder that contains two sub folder one for each class, Covid and No-Covid."
   ]
  },
  {
   "cell_type": "code",
   "execution_count": null,
   "id": "cecf9735",
   "metadata": {},
   "outputs": [],
   "source": [
    "# Define path\n",
    "main_path = '/content/drive/MyDrive/DL_tutorials/notebooks/'"
   ]
  },
  {
   "cell_type": "code",
   "execution_count": null,
   "id": "08ab5996",
   "metadata": {},
   "outputs": [],
   "source": [
    "!curl -L https://www.dropbox.com/s/ynxtbh7t0mts30k/Dataset_CT_lungs.zip?dl=1 > /content/drive/MyDrive/DL_tutorials/notebooks/Dataset_CT_lungs.zip"
   ]
  },
  {
   "cell_type": "code",
   "execution_count": null,
   "id": "444494c8",
   "metadata": {},
   "outputs": [],
   "source": [
    "shutil.unpack_archive(main_path + 'Dataset_CT_lungs.zip', main_path)\n",
    "shutil.rmtree(main_path + '__MACOSX')"
   ]
  },
  {
   "cell_type": "code",
   "execution_count": null,
   "id": "f0103b23",
   "metadata": {},
   "outputs": [],
   "source": [
    "# Create the path to each folder\n",
    "data_path = main_path + '/Dataset_CT_lungs/'\n",
    "pos_files = glob.glob(os.path.join(data_path, \"CT_COVID\",'*.*'))\n",
    "neg_files = glob.glob(os.path.join(data_path, 'CT_NonCOVID','*.*'))\n",
    "images = pos_files + neg_files\n",
    "num_total = len(images)"
   ]
  },
  {
   "cell_type": "code",
   "execution_count": null,
   "id": "55a9bc97",
   "metadata": {},
   "outputs": [],
   "source": [
    "# Plot 9 random CT scans from the dataset to see how do they look like\n",
    "# random.seed(7)\n",
    "plt.subplots(3, 3, figsize=(8, 8)) \n",
    "num_fig = 9\n",
    "ax_name = ['No Covid'] * num_fig\n",
    "for i, number in enumerate(random.sample(range(num_total), num_fig)):\n",
    "    im = PIL.Image.open(images[number])\n",
    "    arr = np.array(im)\n",
    "    plt.subplot(3, 3, i + 1)\n",
    "    if 'CT_COVID' in images[number]:        \n",
    "        ax_name[i] = 'Covid'\n",
    "    plt.xlabel(ax_name[i], fontsize=15)\n",
    "    plt.imshow(arr, cmap=\"gray\", vmin=0, vmax=255)\n",
    "plt.tight_layout()\n",
    "plt.show()"
   ]
  },
  {
   "cell_type": "code",
   "execution_count": null,
   "id": "58b1ced3",
   "metadata": {},
   "outputs": [],
   "source": []
  }
 ],
 "metadata": {
  "kernelspec": {
   "display_name": "Python 3 (ipykernel)",
   "language": "python",
   "name": "python3"
  },
  "language_info": {
   "codemirror_mode": {
    "name": "ipython",
    "version": 3
   },
   "file_extension": ".py",
   "mimetype": "text/x-python",
   "name": "python",
   "nbconvert_exporter": "python",
   "pygments_lexer": "ipython3",
   "version": "3.9.7"
  }
 },
 "nbformat": 4,
 "nbformat_minor": 5
}
