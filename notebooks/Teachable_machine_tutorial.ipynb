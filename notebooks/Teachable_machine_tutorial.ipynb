{
 "cells": [
  {
   "cell_type": "markdown",
   "id": "07223df7",
   "metadata": {},
   "source": [
    "![logo](https://github.com/donatellacea/DL_tutorials/blob/main/notebooks/figures/1128-191-max.png?raw=true)"
   ]
  },
  {
   "cell_type": "markdown",
   "id": "e652b783",
   "metadata": {},
   "source": [
    "# Getting to know the power of Deep Learnig with The Teachable Machine\n",
    "---\n",
    "This notebook will introduce you to the fascinating Deep Learning (DL) world through the google experiment Teachable Machine. \n",
    "First, this tutorial will guide you through the functionalities and the available parameters, and in the second part, you will have to create a data set, train the model, and answer some questions.\n",
    "\n",
    "The goals of this tutorial are:\n",
    "- create the data sets for the training of a model that can recognize objects or people\n",
    "- understand the limitations and pitfalls of DL\n",
    "- think and discuss about posssible interesting applications of classification with Teachable Machine."
   ]
  },
  {
   "cell_type": "markdown",
   "id": "310cb2cb",
   "metadata": {},
   "source": [
    "## Teachable Machine\n",
    "\n",
    "To access the website just click on this link [Teachable Machine](https://teachablemachine.withgoogle.com/) and you will see the following page."
   ]
  },
  {
   "cell_type": "markdown",
   "id": "47870452",
   "metadata": {},
   "source": [
    "![Teachable_machine.png](https://github.com/donatellacea/DL_tutorials/blob/main/figures/Teachable_machine.png?raw=true)"
   ]
  },
  {
   "cell_type": "markdown",
   "id": "5f54c9e3",
   "metadata": {},
   "source": [
    "This tutorial is focused on image classification, but feel free to come back later and explore all the potential of a correctly trained deep neural network.\n",
    "\n",
    "Click on Image Project, select the Standard image model button, and get started!"
   ]
  },
  {
   "cell_type": "markdown",
   "id": "66a829b4",
   "metadata": {},
   "source": [
    "### Settings\n",
    "\n",
    "There is three main sections on the page, you can read an overview of the available functionalities. Feel free to skip this part and go directly to the task and come back in case you have any doubts.\n",
    "\n",
    "**Dataset**: On the lefthand side of the page, you can edit the classes, choosing a label for each class you want the model to learn, then you can simply add the images and create your own dataset. You could both upload the image from your computer, and create the dataset using the webcam.\n",
    "Click on the webcam button and you will see a window that accesses your camera and where you can eventually decide to crop or flip the image.\n",
    "In order to start collecting the images hold on the blue button below the camera window, or open the menu and choose to record a few seconds without holding the button.\n",
    "\n",
    "**Training**: Once your dataset is ready you can start the training, by clicking on Train Model. There is the opportunity to customize the training, choosing some hyperparameters. To do that open the Advanced menu.\n",
    "Here you can select:\n",
    "\n",
    "*Epochs*: the number of iterations over the dataset.\n",
    "\n",
    "*Batch Size*: the number of samples processed before the model is updated.\n",
    "\n",
    "*Learning Rate*: how fast we want the network to learn.\n",
    "\n",
    "*Under the hood*: you can also visualize the main graph to understand how the model is performing by clicking on the 'Under the hood' menu. In particular, you can focus on the **learning curve** that represents how the model is learning, plotting the loss as a function of the epoch. If the model is actually learning the losses, of both the training and the test set, should decrease over the epochs. To see how this learning curve evolves during the training, leave the 'under the hood' window open, you will see that at the beginning the losses have a higher value, and then start to decrease. Another interesting plot that the model automatically creates is the **confusion matrix** that allows us to see the ratio of true positive (TP), true negative (TN), false positive (FP), and false negative (FN) predictions.\n",
    "\n",
    "**Preview**: You can test your model on a new image that you can upload or see through the camera. You will see that the model will try to identify the label of the new object showing a different percentage in the colored bars under the image. The bars represent the confidence the model in predicting different categories."
   ]
  },
  {
   "cell_type": "markdown",
   "id": "ac7a3024",
   "metadata": {},
   "source": [
    "### Train-test split\n",
    "\n",
    "No matter if we are dealing with classification or regression problems, a crucial aspect of determining if the results are meaningful or not is the evaluation of the performance of our model. \n",
    "\n",
    "The train-test split is a technique for evaluating the performance of a machine learning algorithm that can use any supervised learning method.\n",
    "\n",
    "The goal is to divide the dataset into two sub-sets:\n",
    "\n",
    "- **Train set**: Used to fit the machine learning model.\n",
    "- **Test set**: Used to evaluate the fit machine learning model. The model I provided with the input element of the test set, then predictions are made and compared to the expected values.\n",
    "\n",
    "It is essential to point out that the evaluation must be made on data that are not visible to the network during the training. In other words, the objective is to estimate the machine learning model's performance on new data not used to train the model, i.e. the test data."
   ]
  },
  {
   "cell_type": "markdown",
   "id": "5d24db88",
   "metadata": {},
   "source": [
    "### Task 1 - Image recognition hand/fingers\n",
    "\n",
    "1) Create your own dataset with two labeled classes in order to train the machine to recognize an open hand and one finger.\n",
    "\n",
    "2) Train the model and look at the result. Are you satisfied with your model? How could you change the dataset in order to improve the performances?\n",
    "\n",
    "3) Is your model able to recognize a fist? Probably not, what would you do to teach this new thing to your NN?\n",
    "\n",
    "4) Try now to change the background, how is the model reacting then? (Or try to use your other hand)"
   ]
  },
  {
   "cell_type": "markdown",
   "id": "0b8ff5d7",
   "metadata": {},
   "source": [
    "### Task 2 - Image recognition with your own dataset \n",
    "\n",
    "Try to build your own classifier (male/female, pen/pencil,..).\n",
    "\n",
    "Now think about your domain: are there ways you could see something like this helping your practice or the people you work with?"
   ]
  },
  {
   "cell_type": "code",
   "execution_count": null,
   "id": "95a01911",
   "metadata": {},
   "outputs": [],
   "source": []
  }
 ],
 "metadata": {
  "kernelspec": {
   "display_name": "Python 3 (ipykernel)",
   "language": "python",
   "name": "python3"
  },
  "language_info": {
   "codemirror_mode": {
    "name": "ipython",
    "version": 3
   },
   "file_extension": ".py",
   "mimetype": "text/x-python",
   "name": "python",
   "nbconvert_exporter": "python",
   "pygments_lexer": "ipython3",
   "version": "3.9.7"
  }
 },
 "nbformat": 4,
 "nbformat_minor": 5
}
