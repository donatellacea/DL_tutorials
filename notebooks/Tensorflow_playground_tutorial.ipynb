{
 "cells": [
  {
   "cell_type": "markdown",
   "id": "8defff4c",
   "metadata": {},
   "source": [
    "![logo](https://github.com/donatellacea/DL_tutorials/blob/main/notebooks/figures/1128-191-max.png?raw=true)"
   ]
  },
  {
   "cell_type": "markdown",
   "id": "4ce651d3",
   "metadata": {},
   "source": [
    "# Getting to know an Artificial Neural Network with TensorFlow Playground\n",
    "---\n",
    "\n",
    "This notebook will introduce you to an Artificial Neural Network (ANN) structure, visualizing it through google's platform known as TensorFlow Playground.\n",
    "The first part of the tutorial will guide you through the functionalities and the available parameters. \n",
    "And in the second part, you will have to complete small challenges varying the parameters directly on the platform.\n",
    "The goals of this tutorial are:\n",
    "- understand what an ANN is and how it works\n",
    "- understand the difference between linear and non-linear classification problems\n",
    "- understand the power of a deep neural network\n",
    "\n",
    "In order to start working on the notebook, click on the following button, this will open this page in the Colab environment and you will be able to execute the code on your own. It might ask you to access your Gmail account and accept the terms and conditions, please accept all to continue with the tutorial.\n",
    "\n",
    "[![Open In Colab](https://colab.research.google.com/assets/colab-badge.svg)](https://colab.research.google.com/github/donatellacea/DL_tutorials/blob/main/notebooks/Tensorflow_playground_tutorial.ipynb)\n"
   ]
  },
  {
   "cell_type": "markdown",
   "id": "18fcf3ef",
   "metadata": {},
   "source": [
    "## Setup the environment\n",
    "\n",
    "Now that you are visualizing the notebook in Colab, run the next cell, in order to create a folder in your Google Drive. All the files for this tutorial will be uploaded to this folder. After the first execution you might receive some warning and notification, please follow these instructions:\n",
    "\n",
    "1. Warning: This notebook was not authored by Google. Click on Run anyway.\n",
    "2. Permit this notebook to access your Google Drive files? Click on Yes, and select your account.\n",
    "3. Google Drive for desktop wants to access your Google Account. Click on 'Allow'.\n",
    "\n",
    "At this point, a folder has been created and you can navigate it through the lefthand panel in Colab, you might also have received an email that informs you about the access on your Google Drive. "
   ]
  },
  {
   "cell_type": "code",
   "execution_count": null,
   "id": "8bfaf046",
   "metadata": {},
   "outputs": [],
   "source": [
    "# Create a folder in your Google Drive\n",
    "from google.colab import drive\n",
    "drive.mount('/content/drive')"
   ]
  },
  {
   "cell_type": "markdown",
   "id": "ffaeadaa",
   "metadata": {},
   "source": [
    "Execute the next cell to clone the repository from GitHub, so the important files and notebooks for this tutorial will be downloaded to your working folder on the Drive that you created in the previous step."
   ]
  },
  {
   "cell_type": "code",
   "execution_count": null,
   "id": "b7d540a6",
   "metadata": {},
   "outputs": [],
   "source": [
    "%cd drive/MyDrive"
   ]
  },
  {
   "cell_type": "code",
   "execution_count": null,
   "id": "400040ab",
   "metadata": {},
   "outputs": [],
   "source": [
    "!git clone https://github.com/donatellacea/DL_tutorials"
   ]
  },
  {
   "cell_type": "code",
   "execution_count": null,
   "id": "76ddf714",
   "metadata": {},
   "outputs": [],
   "source": [
    "%cd DL_tutorials/notebooks"
   ]
  },
  {
   "cell_type": "markdown",
   "id": "91a25a9b",
   "metadata": {},
   "source": [
    "## TensorFlow Playground\n",
    "\n",
    "To access the website just click on this link [Tensorflow Playground](https://playground.tensorflow.org/#activation=tanh&batchSize=10&dataset=circle&regDataset=reg-plane&learningRate=0.03&regularizationRate=0&noise=0&networkShape=4,2&seed=0.20498&showTestData=false&discretize=false&percTrainData=50&x=true&y=true&xTimesY=false&xSquared=false&ySquared=false&cosX=false&sinX=false&cosY=false&sinY=false&collectStats=false&problem=classification&initZero=false&hideText=false) and you should see the following page."
   ]
  },
  {
   "cell_type": "markdown",
   "id": "715b4eff",
   "metadata": {},
   "source": [
    "![TensorFlow Playgroung first page](https://github.com/donatellacea/DL_tutorials/blob/main/notebooks/figures/Tensorflow_playground.png?raw=true)"
   ]
  },
  {
   "cell_type": "markdown",
   "id": "b21c3ae2",
   "metadata": {},
   "source": [
    "In this lesson we will focus on **classification problems**, therefore make sure that you will start with the same setup as the previous image.\n",
    "\n",
    "In particular, notice that on the top right \"Problem type\" should be set to \"Classification\"."
   ]
  },
  {
   "cell_type": "markdown",
   "id": "55ed9895",
   "metadata": {},
   "source": [
    "### Parameters & Setting\n",
    "In this section, we will briefly explain the meaning of the parameters that you could change. \n",
    "We will define all of them, but only a few will be useful for this tutorial and the accomplishment of the tasks. \n",
    "\n",
    "**Feel free to skip this part and go directly to the task and come back in case you have any doubts**.\n",
    "\n",
    "\n",
    "**Epochs**: number of iterations over the dataset.\n",
    "\n",
    "**Learning rate**: step size during the training process that determines the speed and how well the model trains.\n",
    "\n",
    "**Activation function**: function that computes the output of a neuron (it transforms the weighted sum of the input into an output).\n",
    "\n",
    "**Regularization & Regularization rate**: method to prevent overfitting (i.e. the model doesn't generalize well to new data). It is not necessary for simple problems where overfitting is not happening. In this tutorial, we will set them respectively to None and 0.\n",
    "\n",
    "**Problem Type**: set to classification if you want to predict whether a data point belongs to a certain class: set to regression if the goal is to predict a continuous value. In this tutorial, we are only performing classification, notice that here we are dealing with binary classification, but ANN is also able to perform multi-class classification.\n",
    "\n",
    "**Data**: these represent the input of the ANN.\n",
    "- kind of dataset that can be chosen, clicking on the different squared buttons\n",
    "- you can also choose the ratio of data used for training or testing (see section below). Usually, we set the training set size to 80% and the test set to 20%. In this tutorial, we will leave it to 50%\n",
    "- Noise: some noise can be added to data to make it harder to find the solution, we will keep it to zero, but you can try later to introduce some noise and repeat the task to observe the difference.\n",
    "- Batch size: number of samples processed before the model is updated\n",
    "\n",
    "**Features**: \n",
    "these represent the properties of each data point. In this case, we will work with two features $x_1$ and $x_2$, that represent respectively the horizontal and the vertical position. The other ones represent a different combination of the first two and are used to achieve better performances throughout the process so-called *feature engineering*. This might help determine some more complex relationships among the data.\n",
    "\n",
    "**Hidden layers and neurons**:\n",
    "A basic network is made of different layers each with a certain number of neurons. The first layer is called the input layer, the last one is the output layer and (at the level of the prediction of the network). Only these two layers are necessary, but especially when the problem is not linear, and is more complex, we might want to add layers to the network, these intermediate layers are called hidden layers. In each layer, we can also set the number of neurons.\n",
    "\n",
    "**Results**: the results are visualized in the righthand box. Before performing the training the background is light blue/ gray. During the training, it starts changing colors and if the ANN is correctly learning how to predict the classes, the colored zone will cover the zone with the dots of the same color. The background color shows what the network is predicting for a particular area. The intensity of the color shows how confident that prediction is.\n",
    "The output also shows the learning curves for train and test loss function, the goal of an ANN is to minimize the loss functions, so during the training, you will see that these values are decreasing. At the beginning of the training, the loss starts from high values.\n",
    "\n",
    "**How to start a training**: When clicking on the top-left arrow the training starts and we can see the progression in the number of epochs, we can also slow the process down and manually increment the epoche with the smaller button. To start over, click the refresh button."
   ]
  },
  {
   "cell_type": "markdown",
   "id": "cf2bde5f",
   "metadata": {},
   "source": [
    "### Train-test split\n",
    "\n",
    "As mentioned before, you will see two learning curves in two different colors, one for the train set and one for the test set.\n",
    "\n",
    "The train-test split is a technique for evaluating the performance of a machine learning algorithm that can use any supervised learning method. The whole dataset is divided into two sub-sets:\n",
    "\n",
    "- **Train set**: the sample of data used to fit the model.\n",
    "- **Test set**: the sample of data, unseen during the training, used to evaluate the fit machine learning model."
   ]
  },
  {
   "cell_type": "markdown",
   "id": "4f323015",
   "metadata": {},
   "source": [
    "### Task 1 - Linear classification of Gaussian dataset\n",
    "\n",
    "Starting from the configuration shown below, find the minimum number of layers and the minimum number of total neurons to make a linear classification. Insert your answer in the next cell and run it to check the solution."
   ]
  },
  {
   "cell_type": "markdown",
   "id": "d750b64f",
   "metadata": {},
   "source": [
    "![Task_1_setup](https://github.com/donatellacea/DL_tutorials/blob/main/notebooks/figures/task_1_setup.png?raw=true)"
   ]
  },
  {
   "cell_type": "code",
   "execution_count": null,
   "id": "e7ccf3fc",
   "metadata": {},
   "outputs": [],
   "source": [
    "# run this cell to activate the auto check for the solutions\n",
    "from check_file import *"
   ]
  },
  {
   "cell_type": "code",
   "execution_count": null,
   "id": "f82c8aa1",
   "metadata": {},
   "outputs": [],
   "source": [
    "# Subsitute None with your solution\n",
    "number_of_layer = None\n",
    "number_of_neurons = None\n",
    "\n",
    "check_task_1(number_of_layer, number_of_neurons)"
   ]
  },
  {
   "cell_type": "markdown",
   "id": "4eb49788",
   "metadata": {},
   "source": [
    "### Task 2 - Classification on circular dataset\n",
    "\n",
    "Starting from the configuration shown below, find the minimum number of layers and the minimum number of total neurons to make a classification. Insert your answer in the next cell and run it to check the solution."
   ]
  },
  {
   "cell_type": "markdown",
   "id": "92d3f1fb",
   "metadata": {},
   "source": [
    "![task_2_setup](https://github.com/donatellacea/DL_tutorials/blob/main/notebooks/figures/task_2_prova.png?raw=true)"
   ]
  },
  {
   "cell_type": "markdown",
   "id": "86603de7",
   "metadata": {},
   "source": [
    "At first, try to run the same configuration that was the solution of the previous task, you should observe that now the simple NN with only one neuron, is not able to learn this more complex configuration. Indeed the loss and train function are pretty high.\n",
    "\n",
    "Try now to add more neurons and see what happens. The losses are decreasing, but still, the classification is not performing well.\n",
    "\n",
    "Try to add one more neuron. Is the classification successful? If not, keep going!"
   ]
  },
  {
   "cell_type": "code",
   "execution_count": null,
   "id": "bdc39165",
   "metadata": {},
   "outputs": [],
   "source": [
    "# Subsitute None with your solution\n",
    "number_of_layer = None\n",
    "number_of_neurons = None\n",
    "\n",
    "# Run the cell to check if your answer is correct\n",
    "check_task_2(number_of_layer, number_of_neurons)"
   ]
  },
  {
   "cell_type": "markdown",
   "id": "6480c966",
   "metadata": {},
   "source": [
    "As you might have noticed, each neuron you are adding has a different color and shape. This is due to the fact that in the hidden layer, the network creates new features that are able to recognize different contours and edges in the image, without that we explicitly create them.\n",
    "\n",
    "Therefore, the hidden layers extract increasingly abstract features from the image. These layers are called “hidden” because their values are not given in the data; instead, the model must determine which concepts are useful for explaining the relationships in the observed data."
   ]
  },
  {
   "cell_type": "markdown",
   "id": "96e332b3",
   "metadata": {},
   "source": [
    "### Task 3 -  Classification of the four cluster dataset\n",
    "\n",
    "Select the configuration shown below, which is the same as the solution of the previous task, and start the training to see what happens (let the training go on for about 400-500 epochs, then stop it)."
   ]
  },
  {
   "cell_type": "markdown",
   "id": "513afcf3",
   "metadata": {},
   "source": [
    "![task_3_setup](https://github.com/donatellacea/DL_tutorials/blob/main/notebooks/figures/task_3.png?raw=true)"
   ]
  },
  {
   "cell_type": "markdown",
   "id": "bfcff9ea",
   "metadata": {},
   "source": [
    "You should have a result similar to the one shown below, and as you see that the ANN is not able to catch all the four clusters."
   ]
  },
  {
   "cell_type": "markdown",
   "id": "c2e1feac",
   "metadata": {},
   "source": [
    "![task_3_hint](https://github.com/donatellacea/DL_tutorials/blob/main/notebooks/figures/task_3_hint.png?raw=true)"
   ]
  },
  {
   "cell_type": "markdown",
   "id": "886cf79f",
   "metadata": {},
   "source": [
    "Try to refresh and train the ANN again, what do you notice? What's the reason why the same NN is now able to predict the classes correctly? Discuss with your team about it and then execute the next cell to check the answer."
   ]
  },
  {
   "cell_type": "code",
   "execution_count": null,
   "id": "1e490a66",
   "metadata": {},
   "outputs": [],
   "source": [
    "# Run the cell to check if your answer is correct\n",
    "check_task_3()"
   ]
  },
  {
   "cell_type": "markdown",
   "id": "9d9a8218",
   "metadata": {},
   "source": [
    "Try now to add one or two more layers, what do you observe?"
   ]
  },
  {
   "cell_type": "markdown",
   "id": "c3f91085",
   "metadata": {},
   "source": [
    "### Task 4 - Spiral classification - optional\n",
    "\n",
    "Starting from the configuration shown below, try to increase the number of layers and neurons in order to correctly classify the data points in the spiral shape."
   ]
  },
  {
   "cell_type": "markdown",
   "id": "97b32c3b",
   "metadata": {},
   "source": [
    "![task_4_setup](https://github.com/donatellacea/DL_tutorials/blob/main/notebooks/figures/task_4.png?raw=true)"
   ]
  },
  {
   "cell_type": "markdown",
   "id": "a7fdc693",
   "metadata": {},
   "source": [
    "Congratulations! You completed this tutorial!"
   ]
  },
  {
   "cell_type": "markdown",
   "id": "a2e36e31",
   "metadata": {},
   "source": [
    "### Extra\n",
    "***\n",
    "You can repeat the previous tasks, trying to use different activation functions and see the differences, or you could introduce some noise in the data and see that it's more complicated to solve the classification task, but that deep networks can still be a powerful solution."
   ]
  }
 ],
 "metadata": {
  "kernelspec": {
   "display_name": "Python 3 (ipykernel)",
   "language": "python",
   "name": "python3"
  },
  "language_info": {
   "codemirror_mode": {
    "name": "ipython",
    "version": 3
   },
   "file_extension": ".py",
   "mimetype": "text/x-python",
   "name": "python",
   "nbconvert_exporter": "python",
   "pygments_lexer": "ipython3",
   "version": "3.9.7"
  }
 },
 "nbformat": 4,
 "nbformat_minor": 5
}
