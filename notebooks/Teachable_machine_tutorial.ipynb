{
 "cells": [
  {
   "cell_type": "markdown",
   "id": "13c1a46a",
   "metadata": {},
   "source": [
    "![logo](https://github.com/donatellacea/DL_tutorials/blob/main/notebooks/figures/1128-191-max.png?raw=true)"
   ]
  },
  {
   "cell_type": "markdown",
   "id": "eeeef4b6",
   "metadata": {},
   "source": [
    "# Getting to know the power of Deep Learnig with The Teachable Machine\n",
    "---\n",
    "This notebook will introduce you to the fascinating world of Deep Learning (DL) through the google experiment Teachable Machine. \n",
    "First, this tutorial will guide you through the functionalities and the available paramters and in a second part you will have to create a data set and train the model and answer some questions.\n",
    "\n",
    "The goals of this tutorial are:\n",
    "- create the data sets for the training of model that can recognize objects or people\n",
    "- understand the meaning of a well balanced data set\n",
    "- understand the limitations of DL"
   ]
  },
  {
   "cell_type": "markdown",
   "id": "9a088f1f",
   "metadata": {},
   "source": [
    "## Teachable Machine\n",
    "\n",
    "To access the website just click on this link [Teachable Machine](https://teachablemachine.withgoogle.com/) and you should see the following page."
   ]
  },
  {
   "cell_type": "code",
   "execution_count": 2,
   "id": "4e2758f0",
   "metadata": {},
   "outputs": [
    {
     "name": "stdout",
     "output_type": "stream",
     "text": [
      "/bin/bash: -c: line 0: syntax error near unexpected token `Teachable_machine.png'\r\n",
      "/bin/bash: -c: line 0: `[Teachable_machine.png](Teachable_machine.png)'\r\n"
     ]
    }
   ],
   "source": [
    "![Teachable_machine.png](Teachable_machine.png)"
   ]
  },
  {
   "cell_type": "markdown",
   "id": "e7d757cd",
   "metadata": {},
   "source": [
    "This tutorial is focueds on image classification, but feel free to come back later and explore all the potential of a correctly trained deep neural network.\n",
    "\n",
    "Click on Image Project, select the Standar image model button and let's get started!"
   ]
  },
  {
   "cell_type": "markdown",
   "id": "22dcc93f",
   "metadata": {},
   "source": [
    "**Dataset**: On the lefthand side of the page, you can edit the classes, choosing a name for each class you want the model to learn, then you can simply add the images and create your own dataset. You could both upload the image from your computer, and create the dataset using the webcam.\n",
    "Click on the webcam button and you will see a window that access your camera and where you can eventually decide to crop the image or flip the camera.\n",
    "In order to start collecting the images hold on the blue button below the camera window, or open the menu and chosse to record a few second without holding the button.\n",
    "\n",
    "**Training**: Once your data set is ready you can start the Training, clicking on Train Model. There is the opportunity to customize the trainig, choosing some hyperparamters. To do that open the Advanced menu.\n",
    "Here you can select:\n",
    "\n",
    "*Epochs*: the number of iterations over the dataset.\n",
    "\n",
    "*Batch Size*: the number of samples processed before the model is updated.\n",
    "\n",
    "*Learning Rate*: how fast we want the network to learn.\n",
    "\n",
    "*Under the hood*: you can also visualize the main graph to understand how the model is performing clicking on the Under the hood menu. In particular you can focus on the **learning curve** that represents how the model is learning, plotting the loss as a function of the epoch. If the model is actually leraning the losses, of both the training and the test set, should decrease over the epochs. To see how this learning curve evolvs during the training, leave the under the hood window open, you will see that at the beginning the losses have a higher value, and then start to decrease. Another interesting plot that the model automatically creates is the **Confusion matrix** that allow us to see the ratio of true positve (TP), true negative (TN), false positive (FP) and false negative (FN) predictions.\n",
    "\n",
    "**Preview**: You can test your model on a new image that you can upload or see throught the camera. You will see that the model will try to identify the label of the new object showing a different percentage in the colored bars under the image. The bars represents confidence of the model has in predicting different categories."
   ]
  },
  {
   "cell_type": "markdown",
   "id": "317267b0",
   "metadata": {},
   "source": [
    "### Task 1 - Image recognition hand/fingers\n",
    "\n",
    "1) Create your own dataset with two labeled classes in order to train the machine to recognize an open hand, one finger.\n",
    "\n",
    "2) Train the model and look at the result. Are you satify with your model? How could you change the dataset in order to improve the performances?\n",
    "\n",
    "3) Is your model able to recognize a fist? Probably not, what would you do to teach this new thing to your NN?\n",
    "\n",
    "4) Try now to change the backgroud, how is the model reacting then? (Or try to use your other hand)\n"
   ]
  },
  {
   "cell_type": "markdown",
   "id": "049edfaf",
   "metadata": {},
   "source": [
    "### Task 2 - Image recognition with your own dataset \n",
    "\n",
    "Try to build your own classifier (male/female, pen/pencil,..).\n",
    "\n",
    "Now think about your domain: are there ways you could see something like this helping your practice or the people you work with?"
   ]
  },
  {
   "cell_type": "code",
   "execution_count": null,
   "id": "6ce7422b",
   "metadata": {},
   "outputs": [],
   "source": []
  }
 ],
 "metadata": {
  "kernelspec": {
   "display_name": "Python 3 (ipykernel)",
   "language": "python",
   "name": "python3"
  },
  "language_info": {
   "codemirror_mode": {
    "name": "ipython",
    "version": 3
   },
   "file_extension": ".py",
   "mimetype": "text/x-python",
   "name": "python",
   "nbconvert_exporter": "python",
   "pygments_lexer": "ipython3",
   "version": "3.9.7"
  }
 },
 "nbformat": 4,
 "nbformat_minor": 5
}
